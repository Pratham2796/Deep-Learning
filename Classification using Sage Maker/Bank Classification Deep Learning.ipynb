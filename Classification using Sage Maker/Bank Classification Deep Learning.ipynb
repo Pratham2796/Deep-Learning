{
  "nbformat": 4,
  "nbformat_minor": 0,
  "metadata": {
    "kernelspec": {
      "display_name": "conda_python3",
      "language": "python",
      "name": "conda_python3"
    },
    "colab": {
      "name": "Untitled2.ipynb",
      "provenance": []
    }
  },
  "cells": [
    {
      "cell_type": "markdown",
      "metadata": {
        "id": "AaAlDu_5seBX"
      },
      "source": [
        "### Importing Important Libraries"
      ]
    },
    {
      "cell_type": "markdown",
      "metadata": {
        "id": "QliqzUn5seBa"
      },
      "source": [
        "#### Steps To Be Followed\n",
        "1. Importing necessary Libraries\n",
        "2. Creating S3 bucket \n",
        "3. Mapping train And Test Data in S3\n",
        "4. Mapping The path of the models in S3"
      ]
    },
    {
      "cell_type": "code",
      "metadata": {
        "id": "FlrfbtwlseBb"
      },
      "source": [
        "import sagemaker\n",
        "import boto3\n",
        "from sagemaker.amazon.amazon_estimator import get_image_uri \n",
        "from sagemaker.session import s3_input, Session"
      ],
      "execution_count": null,
      "outputs": []
    },
    {
      "cell_type": "code",
      "metadata": {
        "id": "9dSfngZtseBc",
        "outputId": "9b568355-0a0b-4a14-d55c-63af4d17047b"
      },
      "source": [
        "bucket_name = 'bankapplication' # <--- CHANGE THIS VARIABLE TO A UNIQUE NAME FOR YOUR BUCKET\n",
        "my_region = boto3.session.Session().region_name # set the region of the instance\n",
        "print(my_region)"
      ],
      "execution_count": null,
      "outputs": [
        {
          "output_type": "stream",
          "text": [
            "us-east-1\n"
          ],
          "name": "stdout"
        }
      ]
    },
    {
      "cell_type": "code",
      "metadata": {
        "id": "YzowKqxkseBd",
        "outputId": "28bee621-ec68-4836-93d1-19e8b23d0ae5"
      },
      "source": [
        "s3 = boto3.resource('s3')\n",
        "try:\n",
        "    if  my_region == 'us-east-1':\n",
        "        s3.create_bucket(Bucket=bucket_name)\n",
        "    print('S3 bucket created successfully')\n",
        "except Exception as e:\n",
        "    print('S3 error: ',e)"
      ],
      "execution_count": null,
      "outputs": [
        {
          "output_type": "stream",
          "text": [
            "S3 bucket created successfully\n"
          ],
          "name": "stdout"
        }
      ]
    },
    {
      "cell_type": "code",
      "metadata": {
        "id": "44dKJ_ZEseBd",
        "outputId": "838f6b9d-2a66-4fe9-d88b-6dc3bdbde6a7"
      },
      "source": [
        "# set an output path where the trained model will be saved\n",
        "prefix = 'xgboost-as-a-built-in-algo'\n",
        "output_path ='s3://{}/{}/output'.format(bucket_name, prefix)\n",
        "print(output_path)"
      ],
      "execution_count": null,
      "outputs": [
        {
          "output_type": "stream",
          "text": [
            "s3://bankapplication/xgboost-as-a-built-in-algo/output\n"
          ],
          "name": "stdout"
        }
      ]
    },
    {
      "cell_type": "markdown",
      "metadata": {
        "id": "dcG0PdzeseBe"
      },
      "source": [
        "#### Downloading The Dataset And Storing in S3"
      ]
    },
    {
      "cell_type": "code",
      "metadata": {
        "id": "EllafdoPseBe",
        "outputId": "c0974b78-2410-4c7a-ebb5-6563ec6dcf35"
      },
      "source": [
        "import pandas as pd\n",
        "import urllib\n",
        "try:\n",
        "    urllib.request.urlretrieve (\"https://d1.awsstatic.com/tmt/build-train-deploy-machine-learning-model-sagemaker/bank_clean.27f01fbbdf43271788427f3682996ae29ceca05d.csv\", \"bank_clean.csv\")\n",
        "    print('Success: downloaded bank_clean.csv.')\n",
        "except Exception as e:\n",
        "    print('Data load error: ',e)\n",
        "\n",
        "try:\n",
        "    model_data = pd.read_csv('./bank_clean.csv',index_col=0)\n",
        "    print('Success: Data loaded into dataframe.')\n",
        "except Exception as e:\n",
        "    print('Data load error: ',e)"
      ],
      "execution_count": null,
      "outputs": [
        {
          "output_type": "stream",
          "text": [
            "Success: downloaded bank_clean.csv.\n",
            "Success: Data loaded into dataframe.\n"
          ],
          "name": "stdout"
        }
      ]
    },
    {
      "cell_type": "code",
      "metadata": {
        "id": "EzkskZLdseBf",
        "outputId": "abfbc176-64c4-4d53-ad20-cd766dc92aec"
      },
      "source": [
        "### Train Test split\n",
        "\n",
        "import numpy as np\n",
        "train_data, test_data = np.split(model_data.sample(frac=1, random_state=1729), [int(0.7 * len(model_data))])\n",
        "print(train_data.shape, test_data.shape)"
      ],
      "execution_count": null,
      "outputs": [
        {
          "output_type": "stream",
          "text": [
            "(28831, 61) (12357, 61)\n"
          ],
          "name": "stdout"
        }
      ]
    },
    {
      "cell_type": "code",
      "metadata": {
        "id": "yGlP7sI9seBg",
        "outputId": "784557c3-a78b-43a4-b7cf-43db3cf0e5b8"
      },
      "source": [
        "### Saving Train And Test Into Buckets\n",
        "## We start with Train Data\n",
        "import os\n",
        "pd.concat([train_data['y_yes'], train_data.drop(['y_no', 'y_yes'], \n",
        "                                                axis=1)], \n",
        "                                                axis=1).to_csv('train.csv', index=False, header=False)\n",
        "boto3.Session().resource('s3').Bucket(bucket_name).Object(os.path.join(prefix, 'train/train.csv')).upload_file('train.csv')\n",
        "s3_input_train = sagemaker.s3_input(s3_data='s3://{}/{}/train'.format(bucket_name, prefix), content_type='csv')"
      ],
      "execution_count": null,
      "outputs": [
        {
          "output_type": "stream",
          "text": [
            "'s3_input' class will be renamed to 'TrainingInput' in SageMaker Python SDK v2.\n"
          ],
          "name": "stderr"
        }
      ]
    },
    {
      "cell_type": "code",
      "metadata": {
        "id": "kZMahmQhseBh",
        "outputId": "94692a72-12f1-458d-a408-73141a4818c9"
      },
      "source": [
        "# Test Data Into Buckets\n",
        "pd.concat([test_data['y_yes'], test_data.drop(['y_no', 'y_yes'], axis=1)], axis=1).to_csv('test.csv', index=False, header=False)\n",
        "boto3.Session().resource('s3').Bucket(bucket_name).Object(os.path.join(prefix, 'test/test.csv')).upload_file('test.csv')\n",
        "s3_input_test = sagemaker.s3_input(s3_data='s3://{}/{}/test'.format(bucket_name, prefix), content_type='csv')"
      ],
      "execution_count": null,
      "outputs": [
        {
          "output_type": "stream",
          "text": [
            "'s3_input' class will be renamed to 'TrainingInput' in SageMaker Python SDK v2.\n"
          ],
          "name": "stderr"
        }
      ]
    },
    {
      "cell_type": "markdown",
      "metadata": {
        "id": "aKXnfFQMseBh"
      },
      "source": [
        "### Building Models Xgboot- Inbuilt Algorithm"
      ]
    },
    {
      "cell_type": "code",
      "metadata": {
        "id": "VrwXNpI5seBi",
        "outputId": "67255884-9427-4901-8dbe-f9b305102563"
      },
      "source": [
        "# this line automatically looks for the XGBoost image URI and builds an XGBoost container.\n",
        "# specify the repo_version depending on your preference.\n",
        "container = get_image_uri(boto3.Session().region_name,\n",
        "                          'xgboost', \n",
        "                          repo_version='1.0-1')"
      ],
      "execution_count": null,
      "outputs": [
        {
          "output_type": "stream",
          "text": [
            "'get_image_uri' method will be deprecated in favor of 'ImageURIProvider' class in SageMaker Python SDK v2.\n"
          ],
          "name": "stderr"
        }
      ]
    },
    {
      "cell_type": "code",
      "metadata": {
        "id": "9dX9dfi_seBi"
      },
      "source": [
        "# initialize hyperparameters\n",
        "hyperparameters = {\n",
        "        \"max_depth\":\"5\",\n",
        "        \"eta\":\"0.2\",\n",
        "        \"gamma\":\"4\",\n",
        "        \"min_child_weight\":\"6\",\n",
        "        \"subsample\":\"0.7\",\n",
        "        \"objective\":\"binary:logistic\",\n",
        "        \"num_round\":50\n",
        "        }"
      ],
      "execution_count": null,
      "outputs": []
    },
    {
      "cell_type": "code",
      "metadata": {
        "id": "p93y8ppJseBj",
        "outputId": "632bb1f0-1779-4a58-86fb-93a430dce3bb"
      },
      "source": [
        "# construct a SageMaker estimator that calls the xgboost-container\n",
        "estimator = sagemaker.estimator.Estimator(image_name=container, \n",
        "                                          hyperparameters=hyperparameters,\n",
        "                                          role=sagemaker.get_execution_role(),\n",
        "                                          train_instance_count=1, \n",
        "                                          train_instance_type='ml.m5.2xlarge', \n",
        "                                          train_volume_size=5, # 5 GB \n",
        "                                          output_path=output_path,\n",
        "                                          train_use_spot_instances=True,\n",
        "                                          train_max_run=300,\n",
        "                                          train_max_wait=600)"
      ],
      "execution_count": null,
      "outputs": [
        {
          "output_type": "stream",
          "text": [
            "Parameter image_name will be renamed to image_uri in SageMaker Python SDK v2.\n"
          ],
          "name": "stderr"
        }
      ]
    },
    {
      "cell_type": "code",
      "metadata": {
        "id": "WyCURS9MseBj",
        "outputId": "a58f96da-58ab-46f1-ec06-7de686c673e7"
      },
      "source": [
        "estimator.fit({'train': s3_input_train,'validation': s3_input_test})"
      ],
      "execution_count": null,
      "outputs": [
        {
          "output_type": "stream",
          "text": [
            "2020-08-29 09:49:29 Starting - Starting the training job...\n",
            "2020-08-29 09:49:31 Starting - Launching requested ML instances.........\n",
            "2020-08-29 09:51:04 Starting - Preparing the instances for training...\n",
            "2020-08-29 09:51:44 Downloading - Downloading input data\n",
            "2020-08-29 09:51:44 Training - Downloading the training image..\u001b[34mINFO:sagemaker-containers:Imported framework sagemaker_xgboost_container.training\u001b[0m\n",
            "\u001b[34mINFO:sagemaker-containers:Failed to parse hyperparameter objective value binary:logistic to Json.\u001b[0m\n",
            "\u001b[34mReturning the value itself\u001b[0m\n",
            "\u001b[34mINFO:sagemaker-containers:No GPUs detected (normal if no gpus installed)\u001b[0m\n",
            "\u001b[34mINFO:sagemaker_xgboost_container.training:Running XGBoost Sagemaker in algorithm mode\u001b[0m\n",
            "\u001b[34mINFO:root:Determined delimiter of CSV input is ','\u001b[0m\n",
            "\u001b[34mINFO:root:Determined delimiter of CSV input is ','\u001b[0m\n",
            "\u001b[34mINFO:root:Determined delimiter of CSV input is ','\u001b[0m\n",
            "\u001b[34m[09:52:07] 28831x59 matrix with 1701029 entries loaded from /opt/ml/input/data/train?format=csv&label_column=0&delimiter=,\u001b[0m\n",
            "\u001b[34mINFO:root:Determined delimiter of CSV input is ','\u001b[0m\n",
            "\u001b[34m[09:52:07] 12357x59 matrix with 729063 entries loaded from /opt/ml/input/data/validation?format=csv&label_column=0&delimiter=,\u001b[0m\n",
            "\u001b[34mINFO:root:Single node training.\u001b[0m\n",
            "\u001b[34mINFO:root:Train matrix has 28831 rows\u001b[0m\n",
            "\u001b[34mINFO:root:Validation matrix has 12357 rows\u001b[0m\n",
            "\u001b[34m[09:52:07] WARNING: /workspace/src/learner.cc:328: \u001b[0m\n",
            "\u001b[34mParameters: { num_round } might not be used.\n",
            "\n",
            "  This may not be accurate due to some parameters are only used in language bindings but\n",
            "  passed down to XGBoost core.  Or some parameters are not used but slip through this\n",
            "  verification. Please open an issue if you find above cases.\n",
            "\n",
            "\u001b[0m\n",
            "\u001b[34m[0]#011train-error:0.10079#011validation-error:0.10528\u001b[0m\n",
            "\u001b[34m[1]#011train-error:0.09968#011validation-error:0.10456\u001b[0m\n",
            "\u001b[34m[2]#011train-error:0.10017#011validation-error:0.10375\u001b[0m\n",
            "\u001b[34m[3]#011train-error:0.09989#011validation-error:0.10310\u001b[0m\n",
            "\u001b[34m[4]#011train-error:0.09996#011validation-error:0.10286\u001b[0m\n",
            "\u001b[34m[5]#011train-error:0.09906#011validation-error:0.10261\u001b[0m\n",
            "\u001b[34m[6]#011train-error:0.09930#011validation-error:0.10286\u001b[0m\n",
            "\u001b[34m[7]#011train-error:0.09951#011validation-error:0.10261\u001b[0m\n",
            "\u001b[34m[8]#011train-error:0.09920#011validation-error:0.10286\u001b[0m\n",
            "\u001b[34m[9]#011train-error:0.09871#011validation-error:0.10294\u001b[0m\n",
            "\u001b[34m[10]#011train-error:0.09868#011validation-error:0.10294\u001b[0m\n",
            "\u001b[34m[11]#011train-error:0.09868#011validation-error:0.10326\u001b[0m\n",
            "\u001b[34m[12]#011train-error:0.09854#011validation-error:0.10358\u001b[0m\n",
            "\u001b[34m[13]#011train-error:0.09892#011validation-error:0.10342\u001b[0m\n",
            "\u001b[34m[14]#011train-error:0.09850#011validation-error:0.10342\u001b[0m\n",
            "\u001b[34m[15]#011train-error:0.09844#011validation-error:0.10326\u001b[0m\n",
            "\u001b[34m[16]#011train-error:0.09857#011validation-error:0.10318\u001b[0m\n",
            "\u001b[34m[17]#011train-error:0.09799#011validation-error:0.10318\u001b[0m\n",
            "\u001b[34m[18]#011train-error:0.09816#011validation-error:0.10383\u001b[0m\n",
            "\u001b[34m[19]#011train-error:0.09857#011validation-error:0.10383\u001b[0m\n",
            "\u001b[34m[20]#011train-error:0.09830#011validation-error:0.10350\u001b[0m\n",
            "\u001b[34m[21]#011train-error:0.09826#011validation-error:0.10318\u001b[0m\n",
            "\u001b[34m[22]#011train-error:0.09847#011validation-error:0.10399\u001b[0m\n",
            "\u001b[34m[23]#011train-error:0.09833#011validation-error:0.10407\u001b[0m\n",
            "\u001b[34m[24]#011train-error:0.09812#011validation-error:0.10415\u001b[0m\n",
            "\u001b[34m[25]#011train-error:0.09812#011validation-error:0.10399\u001b[0m\n",
            "\u001b[34m[26]#011train-error:0.09774#011validation-error:0.10375\u001b[0m\n",
            "\u001b[34m[27]#011train-error:0.09781#011validation-error:0.10375\u001b[0m\n",
            "\u001b[34m[28]#011train-error:0.09781#011validation-error:0.10391\u001b[0m\n",
            "\u001b[34m[29]#011train-error:0.09778#011validation-error:0.10367\u001b[0m\n",
            "\u001b[34m[30]#011train-error:0.09781#011validation-error:0.10383\u001b[0m\n",
            "\u001b[34m[31]#011train-error:0.09771#011validation-error:0.10358\u001b[0m\n",
            "\u001b[34m[32]#011train-error:0.09743#011validation-error:0.10391\u001b[0m\n",
            "\u001b[34m[33]#011train-error:0.09753#011validation-error:0.10342\u001b[0m\n",
            "\u001b[34m[34]#011train-error:0.09767#011validation-error:0.10342\u001b[0m\n",
            "\u001b[34m[35]#011train-error:0.09757#011validation-error:0.10350\u001b[0m\n",
            "\u001b[34m[36]#011train-error:0.09757#011validation-error:0.10342\u001b[0m\n",
            "\u001b[34m[37]#011train-error:0.09736#011validation-error:0.10342\u001b[0m\n",
            "\u001b[34m[38]#011train-error:0.09750#011validation-error:0.10342\u001b[0m\n",
            "\u001b[34m[39]#011train-error:0.09733#011validation-error:0.10350\u001b[0m\n",
            "\u001b[34m[40]#011train-error:0.09705#011validation-error:0.10358\u001b[0m\n",
            "\u001b[34m[41]#011train-error:0.09701#011validation-error:0.10383\u001b[0m\n",
            "\u001b[34m[42]#011train-error:0.09712#011validation-error:0.10407\u001b[0m\n",
            "\u001b[34m[43]#011train-error:0.09698#011validation-error:0.10375\u001b[0m\n",
            "\u001b[34m[44]#011train-error:0.09733#011validation-error:0.10342\u001b[0m\n",
            "\u001b[34m[45]#011train-error:0.09736#011validation-error:0.10367\u001b[0m\n",
            "\u001b[34m[46]#011train-error:0.09746#011validation-error:0.10350\u001b[0m\n",
            "\u001b[34m[47]#011train-error:0.09736#011validation-error:0.10358\u001b[0m\n",
            "\u001b[34m[48]#011train-error:0.09712#011validation-error:0.10334\u001b[0m\n",
            "\u001b[34m[49]#011train-error:0.09712#011validation-error:0.10318\u001b[0m\n",
            "\n",
            "2020-08-29 09:52:19 Uploading - Uploading generated training model\n",
            "2020-08-29 09:52:19 Completed - Training job completed\n",
            "Training seconds: 44\n",
            "Billable seconds: 21\n",
            "Managed Spot Training savings: 52.3%\n"
          ],
          "name": "stdout"
        }
      ]
    },
    {
      "cell_type": "markdown",
      "metadata": {
        "id": "QC_nCGCWseBk"
      },
      "source": [
        "### Deploy Machine Learning Model As Endpoints"
      ]
    },
    {
      "cell_type": "code",
      "metadata": {
        "id": "97xXCaIAseBk",
        "outputId": "b95d261f-b96d-45fb-f701-f1a5d97f652b"
      },
      "source": [
        "xgb_predictor = estimator.deploy(initial_instance_count=1,instance_type='ml.m4.xlarge')"
      ],
      "execution_count": null,
      "outputs": [
        {
          "output_type": "stream",
          "text": [
            "Parameter image will be renamed to image_uri in SageMaker Python SDK v2.\n"
          ],
          "name": "stderr"
        },
        {
          "output_type": "stream",
          "text": [
            "---------------!"
          ],
          "name": "stdout"
        }
      ]
    },
    {
      "cell_type": "markdown",
      "metadata": {
        "id": "uM0cY6j5seBk"
      },
      "source": [
        "#### Prediction of the Test Data"
      ]
    },
    {
      "cell_type": "code",
      "metadata": {
        "id": "Zem0asoHseBk",
        "outputId": "c4acaab5-1b5f-480f-88b9-9d48892ee3ab"
      },
      "source": [
        "from sagemaker.predictor import csv_serializer\n",
        "test_data_array = test_data.drop(['y_no', 'y_yes'], axis=1).values #load the data into an array\n",
        "xgb_predictor.content_type = 'text/csv' # set the data type for an inference\n",
        "xgb_predictor.serializer = csv_serializer # set the serializer type\n",
        "predictions = xgb_predictor.predict(test_data_array).decode('utf-8') # predict!\n",
        "predictions_array = np.fromstring(predictions[1:], sep=',') # and turn the prediction into an array\n",
        "print(predictions_array.shape)"
      ],
      "execution_count": null,
      "outputs": [
        {
          "output_type": "stream",
          "text": [
            "(12357,)\n"
          ],
          "name": "stdout"
        }
      ]
    },
    {
      "cell_type": "code",
      "metadata": {
        "id": "GusOrw-7seBl",
        "outputId": "50a57a1c-8c8c-4e7b-9c77-b82d1e58d4ff"
      },
      "source": [
        "predictions_array"
      ],
      "execution_count": null,
      "outputs": [
        {
          "output_type": "execute_result",
          "data": {
            "text/plain": [
              "array([0.05214286, 0.05660191, 0.05096195, ..., 0.03436061, 0.02942475,\n",
              "       0.03715819])"
            ]
          },
          "metadata": {
            "tags": []
          },
          "execution_count": 30
        }
      ]
    },
    {
      "cell_type": "code",
      "metadata": {
        "id": "oefWywHZseBl",
        "outputId": "b95e49ea-f34e-4eff-da3b-7ddfc064ff69"
      },
      "source": [
        "cm = pd.crosstab(index=test_data['y_yes'], columns=np.round(predictions_array), rownames=['Observed'], colnames=['Predicted'])\n",
        "tn = cm.iloc[0,0]; fn = cm.iloc[1,0]; tp = cm.iloc[1,1]; fp = cm.iloc[0,1]; p = (tp+tn)/(tp+tn+fp+fn)*100\n",
        "print(\"\\n{0:<20}{1:<4.1f}%\\n\".format(\"Overall Classification Rate: \", p))\n",
        "print(\"{0:<15}{1:<15}{2:>8}\".format(\"Predicted\", \"No Purchase\", \"Purchase\"))\n",
        "print(\"Observed\")\n",
        "print(\"{0:<15}{1:<2.0f}% ({2:<}){3:>6.0f}% ({4:<})\".format(\"No Purchase\", tn/(tn+fn)*100,tn, fp/(tp+fp)*100, fp))\n",
        "print(\"{0:<16}{1:<1.0f}% ({2:<}){3:>7.0f}% ({4:<}) \\n\".format(\"Purchase\", fn/(tn+fn)*100,fn, tp/(tp+fp)*100, tp))"
      ],
      "execution_count": null,
      "outputs": [
        {
          "output_type": "stream",
          "text": [
            "\n",
            "Overall Classification Rate: 89.7%\n",
            "\n",
            "Predicted      No Purchase    Purchase\n",
            "Observed\n",
            "No Purchase    91% (10785)    34% (151)\n",
            "Purchase        9% (1124)     66% (297) \n",
            "\n"
          ],
          "name": "stdout"
        }
      ]
    },
    {
      "cell_type": "markdown",
      "metadata": {
        "id": "UF8ogmKTseBl"
      },
      "source": [
        "#### Deleting The Endpoints"
      ]
    },
    {
      "cell_type": "code",
      "metadata": {
        "id": "4TiFyYCBseBm",
        "outputId": "41c9ea14-e00a-458e-be82-5402f2612348"
      },
      "source": [
        "sagemaker.Session().delete_endpoint(xgb_predictor.endpoint)\n",
        "bucket_to_delete = boto3.resource('s3').Bucket(bucket_name)\n",
        "bucket_to_delete.objects.all().delete()"
      ],
      "execution_count": null,
      "outputs": [
        {
          "output_type": "execute_result",
          "data": {
            "text/plain": [
              "[{'ResponseMetadata': {'RequestId': '2FF829102DC6DFD1',\n",
              "   'HostId': 'mYPqeWyx3REoLIsQu2MVorzKLrlxES2n6Dcdr3PycVf1VkRCxicEewoPP8IxRguc5MGksLnjynY=',\n",
              "   'HTTPStatusCode': 200,\n",
              "   'HTTPHeaders': {'x-amz-id-2': 'mYPqeWyx3REoLIsQu2MVorzKLrlxES2n6Dcdr3PycVf1VkRCxicEewoPP8IxRguc5MGksLnjynY=',\n",
              "    'x-amz-request-id': '2FF829102DC6DFD1',\n",
              "    'date': 'Sat, 29 Aug 2020 10:21:27 GMT',\n",
              "    'connection': 'close',\n",
              "    'content-type': 'application/xml',\n",
              "    'transfer-encoding': 'chunked',\n",
              "    'server': 'AmazonS3'},\n",
              "   'RetryAttempts': 0},\n",
              "  'Deleted': [{'Key': 'xgboost-as-a-built-in-algo/train/train.csv'},\n",
              "   {'Key': 'xgboost-as-a-built-in-algo/test/test.csv'},\n",
              "   {'Key': 'xgboost-as-a-built-in-algo/output/sagemaker-xgboost-2020-08-29-09-49-29-015/output/model.tar.gz'}]}]"
            ]
          },
          "metadata": {
            "tags": []
          },
          "execution_count": 32
        }
      ]
    },
    {
      "cell_type": "code",
      "metadata": {
        "id": "SCHtIYsZseBm"
      },
      "source": [
        ""
      ],
      "execution_count": null,
      "outputs": []
    }
  ]
}